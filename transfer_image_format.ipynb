{
 "cells": [
  {
   "cell_type": "code",
   "execution_count": 1,
   "id": "5acbb8f3",
   "metadata": {},
   "outputs": [
    {
     "name": "stdout",
     "output_type": "stream",
     "text": [
      "over\n"
     ]
    }
   ],
   "source": [
    "import os\n",
    "from PIL import Image\n",
    "\n",
    "orininal_dog_path = \"C:/Users/asus/0/\"   #檔案讀出來是陣列型態\n",
    "save_dog_path = \"C:/Users/asus/childen_saved/\"   #不會自己新增資料夾\n",
    "\n",
    "originaldogdir = os.listdir(orininal_dog_path)\n",
    "saveddogdir = os.listdir(save_dog_path)\n",
    "\n",
    "for file in originaldogdir :\n",
    "    img = Image.open(orininal_dog_path + file)\n",
    "    resizeImg = img.resize((56,56))\n",
    "    grayImg = resizeImg.convert('L')\n",
    "    grayImg.save(save_dog_path + file)\n",
    "    \n",
    "    \n",
    "print('over')"
   ]
  },
  {
   "cell_type": "code",
   "execution_count": null,
   "id": "5829ef03",
   "metadata": {},
   "outputs": [],
   "source": []
  }
 ],
 "metadata": {
  "kernelspec": {
   "display_name": "Python 3 (ipykernel)",
   "language": "python",
   "name": "python3"
  },
  "language_info": {
   "codemirror_mode": {
    "name": "ipython",
    "version": 3
   },
   "file_extension": ".py",
   "mimetype": "text/x-python",
   "name": "python",
   "nbconvert_exporter": "python",
   "pygments_lexer": "ipython3",
   "version": "3.7.13"
  }
 },
 "nbformat": 4,
 "nbformat_minor": 5
}
